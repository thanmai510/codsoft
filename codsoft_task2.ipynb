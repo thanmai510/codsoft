{
  "cells": [
    {
      "cell_type": "markdown",
      "metadata": {
        "id": "view-in-github",
        "colab_type": "text"
      },
      "source": [
        "<a href=\"https://colab.research.google.com/github/thanmai510/codsoft/blob/main/codsoft_task2.ipynb\" target=\"_parent\"><img src=\"https://colab.research.google.com/assets/colab-badge.svg\" alt=\"Open In Colab\"/></a>"
      ]
    },
    {
      "cell_type": "code",
      "source": [
        "def add(a,b):\n",
        "  return a+b\n",
        "def subtract(a,b):\n",
        "  return a-b\n",
        "def multiply(a,b):\n",
        "  return a*b\n",
        "def divide(a,b):\n",
        "  return a/b\n",
        "operations={\n",
        "    \"+\":add,\n",
        "    \"-\":subtract,\n",
        "    \"*\":multiply,\n",
        "    \"/\":divide\n",
        "}\n",
        "def calculator():\n",
        "  print(\"welcome to calculator\")\n",
        "  num1=float(input(\"enter first number:\"))\n",
        "  for i in operations:\n",
        "    print(i)\n",
        "  continue_opp=True\n",
        "  while continue_opp:\n",
        "    choice=input(\"enter your choice:\")\n",
        "    num2=float(input(\"enter next number:\"))\n",
        "    result=operations[choice](num1,num2)\n",
        "    print(f\"{num1} {choice} {num2} = {result}\")\n",
        "    again=input(f\"enter 'y' to countinue with {result}  or 'n' to start a new calculation 'x' to exit (y/n/x):\").lower()\n",
        "    if again=='y':\n",
        "      num1=result\n",
        "    elif again=='n':\n",
        "      continue_opp=False\n",
        "      calculator()\n",
        "    elif again=='x':\n",
        "      continue_opp=False\n",
        "      print(\"bye\")\n",
        "calculator()\n"
      ],
      "metadata": {
        "colab": {
          "base_uri": "https://localhost:8080/"
        },
        "id": "UB2QSfolVOsE",
        "outputId": "294e8089-c9ce-4fec-9575-201e29ed5f42"
      },
      "execution_count": null,
      "outputs": [
        {
          "output_type": "stream",
          "name": "stdout",
          "text": [
            "welcome to calculator\n",
            "enter first number:4\n",
            "+\n",
            "-\n",
            "*\n",
            "/\n",
            "enter your choice:+\n",
            "enter next number:3\n",
            "4.0 + 3.0 = 7.0\n",
            "enter 'y' to countinue with 7.0  or 'n' to start a new calculation 'x' to exit (y/n/x):y\n",
            "enter your choice:+\n",
            "enter next number:9\n",
            "7.0 + 9.0 = 16.0\n",
            "enter 'y' to countinue with 16.0  or 'n' to start a new calculation 'x' to exit (y/n/x):n\n",
            "welcome to calculator\n",
            "enter first number:9.5\n",
            "+\n",
            "-\n",
            "*\n",
            "/\n",
            "enter your choice:*\n",
            "enter next number:2\n",
            "9.5 * 2.0 = 19.0\n",
            "enter 'y' to countinue with 19.0  or 'n' to start a new calculation 'x' to exit (y/n/x):x\n",
            "bye\n"
          ]
        }
      ]
    },
    {
      "cell_type": "code",
      "source": [],
      "metadata": {
        "id": "qwsYJY4DYi55"
      },
      "execution_count": null,
      "outputs": []
    }
  ],
  "metadata": {
    "colab": {
      "provenance": [],
      "authorship_tag": "ABX9TyMi1Lv8sNu+d9MlFCh32CkI",
      "include_colab_link": true
    },
    "kernelspec": {
      "display_name": "Python 3",
      "name": "python3"
    },
    "language_info": {
      "name": "python"
    }
  },
  "nbformat": 4,
  "nbformat_minor": 0
}
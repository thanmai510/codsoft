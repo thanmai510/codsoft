{
  "nbformat": 4,
  "nbformat_minor": 0,
  "metadata": {
    "colab": {
      "provenance": [],
      "authorship_tag": "ABX9TyMOIgPlxYKtVr1PlUSKjUXY",
      "include_colab_link": true
    },
    "kernelspec": {
      "name": "python3",
      "display_name": "Python 3"
    },
    "language_info": {
      "name": "python"
    }
  },
  "cells": [
    {
      "cell_type": "markdown",
      "metadata": {
        "id": "view-in-github",
        "colab_type": "text"
      },
      "source": [
        "<a href=\"https://colab.research.google.com/github/thanmai510/codsoft/blob/main/codsoft_task3.ipynb\" target=\"_parent\"><img src=\"https://colab.research.google.com/assets/colab-badge.svg\" alt=\"Open In Colab\"/></a>"
      ]
    },
    {
      "cell_type": "code",
      "execution_count": null,
      "metadata": {
        "id": "ZPpCKZJRgICf",
        "colab": {
          "base_uri": "https://localhost:8080/"
        },
        "outputId": "47a50ce4-bd73-4771-bf27-4b6b63ad03b6"
      },
      "outputs": [
        {
          "output_type": "stream",
          "name": "stdout",
          "text": [
            "Enter the desired password length:5\n",
            "Generated Password: %Q|6s\n"
          ]
        }
      ],
      "source": [
        "import random\n",
        "import string\n",
        "def generate_password(length):\n",
        "  if length<4:\n",
        "    print(\"Password length must be at least 4 characters\")\n",
        "    return \"\"\n",
        "  lowercase=random.choice(string.ascii_lowercase)\n",
        "  uppercase=random.choice(string.ascii_uppercase)\n",
        "  digit=random.choice(string.digits)\n",
        "  symbol=random.choice(string.punctuation)\n",
        "  all_character=string.ascii_letters+string.digits+string.punctuation\n",
        "  remaining=random.choices(all_character,k=length-4)\n",
        "  password_list=[lowercase,uppercase,digit,symbol]+remaining\n",
        "  random.shuffle(password_list)\n",
        "  return \"\".join(password_list)\n",
        "try:\n",
        "  user_length=int(input(\"Enter the desired password length:\"))\n",
        "  password=generate_password(user_length)\n",
        "  if password:\n",
        "    print(\"Generated Password:\",password)\n",
        "except ValueError:\n",
        "  print(\"Invalid input.Please enter a valid number for password length.\")\n",
        "\n",
        "\n"
      ]
    }
  ]
}
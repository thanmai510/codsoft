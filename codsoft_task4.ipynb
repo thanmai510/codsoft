{
  "nbformat": 4,
  "nbformat_minor": 0,
  "metadata": {
    "colab": {
      "provenance": [],
      "authorship_tag": "ABX9TyMxO2e1TDYpD6QGqtQ1qZ4t",
      "include_colab_link": true
    },
    "kernelspec": {
      "name": "python3",
      "display_name": "Python 3"
    },
    "language_info": {
      "name": "python"
    }
  },
  "cells": [
    {
      "cell_type": "markdown",
      "metadata": {
        "id": "view-in-github",
        "colab_type": "text"
      },
      "source": [
        "<a href=\"https://colab.research.google.com/github/thanmai510/codsoft/blob/main/codsoft_task4.ipynb\" target=\"_parent\"><img src=\"https://colab.research.google.com/assets/colab-badge.svg\" alt=\"Open In Colab\"/></a>"
      ]
    },
    {
      "cell_type": "code",
      "execution_count": null,
      "metadata": {
        "colab": {
          "base_uri": "https://localhost:8080/"
        },
        "id": "_D3-IDOHhHo5",
        "outputId": "c13a758c-5dea-40dd-f63c-0e2db82f4660"
      },
      "outputs": [
        {
          "output_type": "stream",
          "name": "stdout",
          "text": [
            ".......Rock paper scissor game........\n",
            "---instructions---\n",
            "1.choose any one from rock,paper,scissors\n",
            "2.type 'exit' to quit from game\n",
            "choose any one from rock,paper,scissors:rock\n",
            "computer choose: scissors\n",
            "Good choice!\n",
            "------------------------------\n",
            "choose any one from rock,paper,scissors:scissors\n",
            "computer choose: scissors\n",
            "try again!\n",
            "------------------------------\n",
            "choose any one from rock,paper,scissors:exit\n",
            "thanks for playing\n"
          ]
        }
      ],
      "source": [
        "import random\n",
        "options=[\"rock\",\"paper\",\"scissors\"]\n",
        "win_messages=[\n",
        "    \"Good choice!\",\n",
        "    \"you won the game\"\n",
        "]\n",
        "lose_messages=[\n",
        "    \"computer won\",\n",
        "    \"good luck next time\"\n",
        "]\n",
        "tie_messages=[\n",
        "    \"its tie!\",\n",
        "    \"try again!\"\n",
        "]\n",
        "print(\".......Rock paper scissor game........\")\n",
        "print(\"---instructions---\")\n",
        "print(\"1.choose any one from rock,paper,scissors\")\n",
        "print(\"2.type 'exit' to quit from game\")\n",
        "while True:\n",
        "  input_choice=input(\"choose any one from rock,paper,scissors:\").lower()\n",
        "  if input_choice==\"exit\":\n",
        "    print(\"thanks for playing\")\n",
        "    break\n",
        "  if input_choice not in options:\n",
        "    print(\"invalid choice\")\n",
        "    continue\n",
        "  computer_choice=random.choice(options)\n",
        "  print(f\"computer choose: {computer_choice}\")\n",
        "  if input_choice==computer_choice:\n",
        "    print(random.choice(tie_messages))\n",
        "  elif input_choice==\"rock\" and computer_choice==\"scissors\":\n",
        "    print(random.choice(win_messages))\n",
        "  elif input_choice==\"paper\" and computer_choice==\"rock\":\n",
        "    print(random.choice(win_messages))\n",
        "  elif input_choice==\"scissors\" and computer_choice==\"paper\":\n",
        "    print(random.choice(win_messages))\n",
        "  else:\n",
        "    print(random.choice(lose_messages))\n",
        "  print(\"-\"*30)"
      ]
    }
  ]
}